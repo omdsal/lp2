{
 "cells": [
  {
   "cell_type": "code",
   "execution_count": 1,
   "id": "87c2ce1c-bc7b-454a-9f13-94b9012d788d",
   "metadata": {},
   "outputs": [
    {
     "name": "stdout",
     "output_type": "stream",
     "text": [
      "****** Welcome to Food Shop, I am Jay created by Jay ******\n",
      "\n"
     ]
    },
    {
     "name": "stdin",
     "output_type": "stream",
     "text": [
      "Can I know your good name:  Jay\n"
     ]
    },
    {
     "name": "stdout",
     "output_type": "stream",
     "text": [
      "Hey Jay! Good to see you here!!!\n",
      "You are in the right place. I will help you to book your dish and drinks.\n",
      "\n",
      "Here is your menu with their prices:\n",
      "1. Pizza - ₹200\n",
      "2. Mango Juice - ₹70\n",
      "3. Apple Juice - ₹80\n",
      "\n",
      "Please select a product you wish to order:\n"
     ]
    },
    {
     "name": "stdin",
     "output_type": "stream",
     "text": [
      " Pizza\n"
     ]
    },
    {
     "name": "stdout",
     "output_type": "stream",
     "text": [
      "\n",
      "Thank you for choosing Pizza\n",
      "\n",
      "Please give us some more information about you!!!!\n"
     ]
    },
    {
     "name": "stdin",
     "output_type": "stream",
     "text": [
      "Enter your mobile number:  75534475\n",
      "Enter your address of delivery:  hhdg hfgs hf\n"
     ]
    },
    {
     "name": "stdout",
     "output_type": "stream",
     "text": [
      "\n",
      "Choose mode of payment:\n",
      "1. Online\n",
      "2. Cash on delivery\n"
     ]
    },
    {
     "name": "stdin",
     "output_type": "stream",
     "text": [
      "Enter your choice (1 or 2):  1\n"
     ]
    },
    {
     "name": "stdout",
     "output_type": "stream",
     "text": [
      "\n",
      "******* Here is the detail of your selected order *******\n",
      "\n",
      "Customer Name : Jay\n",
      "Product Name  : Pizza\n",
      "Price         : ₹200\n",
      "Payment Mode  : Online\n",
      "Delivery Addr : hhdg hfgs hf\n",
      "\n"
     ]
    },
    {
     "name": "stdin",
     "output_type": "stream",
     "text": [
      "Please confirm by pressing 1, or 0 to cancel:  1\n"
     ]
    },
    {
     "name": "stdout",
     "output_type": "stream",
     "text": [
      "\n",
      "******* Your order is booked successfully *******\n",
      "Customer Name : Jay\n",
      "Product Name  : Pizza\n",
      "Price         : ₹200\n",
      "Payment Mode  : Online\n",
      "Delivery Addr : hhdg hfgs hf\n",
      "\n",
      "Thank you for your interest !!! Have a nice day !!!\n"
     ]
    }
   ],
   "source": [
    "def welcome():\n",
    "    print(\"****** Welcome to Food Shop, I am Jay created by Jay ******\\n\")\n",
    "\n",
    "def info():\n",
    "    global name\n",
    "    name = input(\"Can I know your good name: \")\n",
    "    print(f\"Hey {name}! Good to see you here!!!\")\n",
    "    print(\"You are in the right place. I will help you to book your dish and drinks.\\n\")\n",
    "\n",
    "def menu():\n",
    "    print('''Here is your menu with their prices:\n",
    "1. Pizza - ₹200\n",
    "2. Mango Juice - ₹70\n",
    "3. Apple Juice - ₹80\\n''')\n",
    "\n",
    "def order(price, product):\n",
    "    print(f\"\\nThank you for choosing {product}\\n\")\n",
    "    print(\"Please give us some more information about you!!!!\")\n",
    "    \n",
    "    mob = input(\"Enter your mobile number: \")\n",
    "    add = input(\"Enter your address of delivery: \")\n",
    "    \n",
    "    print('''\\nChoose mode of payment:\n",
    "1. Online\n",
    "2. Cash on delivery''')\n",
    "    \n",
    "    pay = input(\"Enter your choice (1 or 2): \")\n",
    "    paymode = \"Cash on delivery\" if pay == \"2\" else \"Online\"\n",
    "    \n",
    "    print(\"\\n******* Here is the detail of your selected order *******\\n\")\n",
    "    print(f\"Customer Name : {name}\")\n",
    "    print(f\"Product Name  : {product}\")\n",
    "    print(f\"Price         : ₹{price}\")\n",
    "    print(f\"Payment Mode  : {paymode}\")\n",
    "    print(f\"Delivery Addr : {add}\\n\")\n",
    "    \n",
    "    b = input(\"Please confirm by pressing 1, or 0 to cancel: \")\n",
    "    print()\n",
    "    \n",
    "    if b == \"1\":\n",
    "        print(\"******* Your order is booked successfully *******\")\n",
    "        print(f\"Customer Name : {name}\")\n",
    "        print(f\"Product Name  : {product}\")\n",
    "        print(f\"Price         : ₹{price}\")\n",
    "        print(f\"Payment Mode  : {paymode}\")\n",
    "        print(f\"Delivery Addr : {add}\\n\")\n",
    "        print(\"Thank you for your interest !!! Have a nice day !!!\")\n",
    "    else:\n",
    "        print(\"***** Thank you for visiting !!! Have a nice day !!! *****\")\n",
    "\n",
    "def choice():\n",
    "    print(\"Please select a product you wish to order:\")\n",
    "    a = input().strip().lower()\n",
    "\n",
    "    if a == \"pizza\":\n",
    "        order(200, \"Pizza\")\n",
    "    elif a == \"mango juice\":\n",
    "        order(70, \"Mango Juice\")\n",
    "    elif a == \"apple juice\":\n",
    "        order(80, \"Apple Juice\")\n",
    "    else:\n",
    "        print(\"You have not selected any valid product... Thank you for visiting! Have a nice day!\")\n",
    "\n",
    "# Run the app\n",
    "welcome()\n",
    "info()\n",
    "menu()\n",
    "choice()"
   ]
  },
  {
   "cell_type": "code",
   "execution_count": null,
   "id": "f551d234-8a28-47a7-890e-b5061afeeb75",
   "metadata": {},
   "outputs": [],
   "source": []
  }
 ],
 "metadata": {
  "kernelspec": {
   "display_name": "Python 3 (ipykernel)",
   "language": "python",
   "name": "python3"
  },
  "language_info": {
   "codemirror_mode": {
    "name": "ipython",
    "version": 3
   },
   "file_extension": ".py",
   "mimetype": "text/x-python",
   "name": "python",
   "nbconvert_exporter": "python",
   "pygments_lexer": "ipython3",
   "version": "3.12.4"
  }
 },
 "nbformat": 4,
 "nbformat_minor": 5
}
